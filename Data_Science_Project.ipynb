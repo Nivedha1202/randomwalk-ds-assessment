{
 "cells": [
  {
   "cell_type": "code",
   "execution_count": 20,
   "id": "da35ee2d",
   "metadata": {},
   "outputs": [],
   "source": [
    "#Importing Libraries\n",
    "import numpy as np\n",
    "import pandas as pd\n",
    "import matplotlib.pyplot as plt"
   ]
  },
  {
   "cell_type": "code",
   "execution_count": 21,
   "id": "25d33f44",
   "metadata": {},
   "outputs": [],
   "source": [
    "#Reading a csv file\n",
    "df = pd.read_csv('downloads/books.csv')"
   ]
  },
  {
   "cell_type": "code",
   "execution_count": 22,
   "id": "5dd9e6c8",
   "metadata": {},
   "outputs": [
    {
     "data": {
      "text/plain": [
       "(399, 24)"
      ]
     },
     "execution_count": 22,
     "metadata": {},
     "output_type": "execute_result"
    }
   ],
   "source": [
    "#Number of rows and columns\n",
    "df.shape"
   ]
  },
  {
   "cell_type": "code",
   "execution_count": 23,
   "id": "599322a3",
   "metadata": {
    "scrolled": true
   },
   "outputs": [
    {
     "name": "stdout",
     "output_type": "stream",
     "text": [
      "Number of books without an original title: 36\n"
     ]
    }
   ],
   "source": [
    "#Number of books that do not have an original title\n",
    "num_books_without_original_title = df['original_title'].isnull().sum()\n",
    "print(f'Number of books without an original title: {num_books_without_original_title}')"
   ]
  },
  {
   "cell_type": "code",
   "execution_count": 24,
   "id": "902874db",
   "metadata": {},
   "outputs": [
    {
     "name": "stdout",
     "output_type": "stream",
     "text": [
      "Number of unique books (after removing null values in original_title) : 363\n"
     ]
    }
   ],
   "source": [
    "#Number of unique books present in the dataset\n",
    "df_cleaned = df.dropna(subset=['original_title'])\n",
    "num_unique_books = df_cleaned['book_id'].nunique()\n",
    "print(f'Number of unique books (after removing null values in original_title) : {num_unique_books}')"
   ]
  },
  {
   "cell_type": "code",
   "execution_count": 25,
   "id": "04301b30",
   "metadata": {},
   "outputs": [
    {
     "name": "stdout",
     "output_type": "stream",
     "text": [
      "Average rating of all the books in the dataset: 3.98\n"
     ]
    }
   ],
   "source": [
    "#Average rating of all the books\n",
    "average_rating = df['average_rating'].mean()\n",
    "print(f'Average rating of all the books in the dataset: {average_rating:.2f}')"
   ]
  },
  {
   "cell_type": "code",
   "execution_count": 26,
   "id": "58b6f803",
   "metadata": {},
   "outputs": [
    {
     "name": "stdout",
     "output_type": "stream",
     "text": [
      "Number of books published in the year 2000: 8\n"
     ]
    }
   ],
   "source": [
    "#Number of books published in the year '2000'\n",
    "num_books_published_in_2000 = len(df[df['original_publication_year'] == 2000])\n",
    "print(f'Number of books published in the year 2000: {num_books_published_in_2000}')"
   ]
  },
  {
   "cell_type": "code",
   "execution_count": 27,
   "id": "b07ecaa9",
   "metadata": {},
   "outputs": [
    {
     "name": "stdout",
     "output_type": "stream",
     "text": [
      "Book with the maximum number of ratings: \"The Diary of a Young Girl\"\n"
     ]
    }
   ],
   "source": [
    "#Book with maximum number of ratings\n",
    "max_ratings_book = df[df['work_ratings_count'] == df['work_ratings_count'].max()]\n",
    "max_ratings_title = max_ratings_book['title'].values[0]\n",
    "print(f'Book with the maximum number of ratings: \"{max_ratings_title}\"')"
   ]
  },
  {
   "cell_type": "code",
   "execution_count": 28,
   "id": "25fd131f",
   "metadata": {},
   "outputs": [
    {
     "data": {
      "image/png": "[encoded data removed]",
      "text/plain": [
       "<Figure size 640x480 with 1 Axes>"
      ]
     },
     "metadata": {},
     "output_type": "display_data"
    }
   ],
   "source": [
    "#Bar graph to show total number of books in each rating bucket\n",
    "buckets = [0, 0.5, 1.0, 1.5, 2.0, 2.5, 3.0, 3.5, 4.0, 4.5, 5.0]\n",
    "df['rounded_rating'] = np.floor(df['average_rating'] * 2) / 2\n",
    "rating_counts = df['rounded_rating'].value_counts().sort_index()\n",
    "\n",
    "plt.bar(rating_counts.index, rating_counts.values, width=0.4)\n",
    "plt.xlabel('Average Rating')\n",
    "plt.ylabel('Number of Books')\n",
    "plt.title('Number of Books in Each Rating Bucket')\n",
    "plt.xticks(np.arange(0, 5.5, 0.5))\n",
    "plt.show()"
   ]
  }
 ],
 "metadata": {
  "kernelspec": {
   "display_name": "Python 3 (ipykernel)",
   "language": "python",
   "name": "python3"
  },
  "language_info": {
   "codemirror_mode": {
    "name": "ipython",
    "version": 3
   },
   "file_extension": ".py",
   "mimetype": "text/x-python",
   "name": "python",
   "nbconvert_exporter": "python",
   "pygments_lexer": "ipython3",
   "version": "3.11.5"
  }
 },
 "nbformat": 4,
 "nbformat_minor": 5
}
